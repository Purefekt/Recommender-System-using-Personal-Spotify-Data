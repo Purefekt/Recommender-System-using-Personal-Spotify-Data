{
 "cells": [
  {
   "cell_type": "code",
   "execution_count": 1,
   "metadata": {},
   "outputs": [],
   "source": [
    "import numpy as np\n",
    "import pandas as pd\n",
    "import matplotlib.pyplot as plt"
   ]
  },
  {
   "cell_type": "code",
   "execution_count": 2,
   "metadata": {},
   "outputs": [],
   "source": [
    "from sklearn.model_selection import train_test_split\n",
    "from sklearn.feature_selection import RFECV\n",
    "from sklearn.model_selection import StratifiedKFold\n",
    "from sklearn.ensemble import RandomForestClassifier"
   ]
  },
  {
   "cell_type": "markdown",
   "metadata": {},
   "source": [
    "## Data\n",
    "Data was collected and stored in pickle format using ```music_data.py```. Now this data can be easily loaded and used."
   ]
  },
  {
   "cell_type": "code",
   "execution_count": 3,
   "metadata": {},
   "outputs": [],
   "source": [
    "# Load the data\n",
    "top_tracks_ids_df = pd.read_pickle('spotify_data/top_tracks_ids.pkl')\n",
    "saved_tracks_ids_df = pd.read_pickle('spotify_data/saved_tracks_ids.pkl')\n",
    "top_tracks_of_top_artists_df = pd.read_pickle('spotify_data/top_tracks_of_top_artists.pkl')\n",
    "random_tracks_ids_df = pd.read_pickle('spotify_data/random_tracks_ids.pkl')\n",
    "tracks_features_df = pd.read_pickle('spotify_data/tracks_features.pkl')\n",
    "recommended_tracks_df = pd.read_pickle('spotify_data/recommended_tracks.pkl')"
   ]
  },
  {
   "cell_type": "code",
   "execution_count": 4,
   "metadata": {},
   "outputs": [],
   "source": [
    "# Remove duplicate tracks\n",
    "top_tracks_ids_df = top_tracks_ids_df.drop_duplicates(subset='id', keep='first').reset_index(drop=True)\n",
    "saved_tracks_ids_df = saved_tracks_ids_df.drop_duplicates(subset='id', keep='first').reset_index(drop=True)\n",
    "top_tracks_of_top_artists_df = top_tracks_of_top_artists_df.drop_duplicates(subset='id', keep='first').reset_index(drop=True)\n",
    "random_tracks_ids_df = random_tracks_ids_df.drop_duplicates(subset='id', keep='first').reset_index(drop=True)\n",
    "tracks_features_df = tracks_features_df.drop_duplicates(subset='id', keep='first').reset_index(drop=True)\n",
    "recommended_tracks_df = recommended_tracks_df.drop_duplicates(subset='id', keep='first').reset_index(drop=True)\n",
    "\n",
    "# Remove tracks which are present in both tracks_features_df and recommended_tracks_df\n",
    "recommended_tracks_df = recommended_tracks_df[~recommended_tracks_df['id'].isin(tracks_features_df['id'].tolist())]"
   ]
  },
  {
   "cell_type": "code",
   "execution_count": 5,
   "metadata": {},
   "outputs": [
    {
     "data": {
      "text/html": [
       "<div>\n",
       "<style scoped>\n",
       "    .dataframe tbody tr th:only-of-type {\n",
       "        vertical-align: middle;\n",
       "    }\n",
       "\n",
       "    .dataframe tbody tr th {\n",
       "        vertical-align: top;\n",
       "    }\n",
       "\n",
       "    .dataframe thead th {\n",
       "        text-align: right;\n",
       "    }\n",
       "</style>\n",
       "<table border=\"1\" class=\"dataframe\">\n",
       "  <thead>\n",
       "    <tr style=\"text-align: right;\">\n",
       "      <th></th>\n",
       "      <th>id</th>\n",
       "      <th>popularity</th>\n",
       "      <th>explicit</th>\n",
       "      <th>duration_ms</th>\n",
       "      <th>danceability</th>\n",
       "      <th>energy</th>\n",
       "      <th>key</th>\n",
       "      <th>loudness</th>\n",
       "      <th>mode</th>\n",
       "      <th>speechiness</th>\n",
       "      <th>acousticness</th>\n",
       "      <th>instrumentalness</th>\n",
       "      <th>liveness</th>\n",
       "      <th>valence</th>\n",
       "      <th>tempo</th>\n",
       "      <th>time_signature</th>\n",
       "      <th>genre</th>\n",
       "    </tr>\n",
       "  </thead>\n",
       "  <tbody>\n",
       "    <tr>\n",
       "      <th>0</th>\n",
       "      <td>4lsHZ92XCFOQfzJFBTluk8</td>\n",
       "      <td>79</td>\n",
       "      <td>True</td>\n",
       "      <td>203144</td>\n",
       "      <td>0.762</td>\n",
       "      <td>0.433</td>\n",
       "      <td>5</td>\n",
       "      <td>-8.937</td>\n",
       "      <td>1</td>\n",
       "      <td>0.1870</td>\n",
       "      <td>0.1430</td>\n",
       "      <td>0.000000</td>\n",
       "      <td>0.1180</td>\n",
       "      <td>0.394</td>\n",
       "      <td>122.074</td>\n",
       "      <td>4</td>\n",
       "      <td>[pop r&amp;b, r&amp;b]</td>\n",
       "    </tr>\n",
       "    <tr>\n",
       "      <th>1</th>\n",
       "      <td>3DarAbFujv6eYNliUTyqtz</td>\n",
       "      <td>87</td>\n",
       "      <td>True</td>\n",
       "      <td>208666</td>\n",
       "      <td>0.764</td>\n",
       "      <td>0.705</td>\n",
       "      <td>8</td>\n",
       "      <td>-3.463</td>\n",
       "      <td>1</td>\n",
       "      <td>0.0284</td>\n",
       "      <td>0.2590</td>\n",
       "      <td>0.000089</td>\n",
       "      <td>0.1200</td>\n",
       "      <td>0.781</td>\n",
       "      <td>110.970</td>\n",
       "      <td>4</td>\n",
       "      <td>[dance pop, pop]</td>\n",
       "    </tr>\n",
       "    <tr>\n",
       "      <th>2</th>\n",
       "      <td>3zYufmyv6HOuiHn1eMR6Ja</td>\n",
       "      <td>63</td>\n",
       "      <td>False</td>\n",
       "      <td>285960</td>\n",
       "      <td>0.586</td>\n",
       "      <td>0.659</td>\n",
       "      <td>0</td>\n",
       "      <td>-7.920</td>\n",
       "      <td>0</td>\n",
       "      <td>0.0304</td>\n",
       "      <td>0.0110</td>\n",
       "      <td>0.000000</td>\n",
       "      <td>0.1060</td>\n",
       "      <td>0.147</td>\n",
       "      <td>111.989</td>\n",
       "      <td>4</td>\n",
       "      <td>[permanent wave, soft rock, sophisti-pop]</td>\n",
       "    </tr>\n",
       "    <tr>\n",
       "      <th>3</th>\n",
       "      <td>0k4d5YPDr1r7FX77VdqWez</td>\n",
       "      <td>88</td>\n",
       "      <td>True</td>\n",
       "      <td>186173</td>\n",
       "      <td>0.828</td>\n",
       "      <td>0.621</td>\n",
       "      <td>8</td>\n",
       "      <td>-6.414</td>\n",
       "      <td>1</td>\n",
       "      <td>0.0565</td>\n",
       "      <td>0.0164</td>\n",
       "      <td>0.002330</td>\n",
       "      <td>0.0845</td>\n",
       "      <td>0.436</td>\n",
       "      <td>128.986</td>\n",
       "      <td>4</td>\n",
       "      <td>[dance pop, pop]</td>\n",
       "    </tr>\n",
       "    <tr>\n",
       "      <th>4</th>\n",
       "      <td>5faV0JuyfLNvBpKu7s6mCV</td>\n",
       "      <td>55</td>\n",
       "      <td>False</td>\n",
       "      <td>134931</td>\n",
       "      <td>0.445</td>\n",
       "      <td>0.601</td>\n",
       "      <td>11</td>\n",
       "      <td>-6.633</td>\n",
       "      <td>0</td>\n",
       "      <td>0.0433</td>\n",
       "      <td>0.0124</td>\n",
       "      <td>0.001530</td>\n",
       "      <td>0.3820</td>\n",
       "      <td>0.198</td>\n",
       "      <td>128.179</td>\n",
       "      <td>4</td>\n",
       "      <td>[]</td>\n",
       "    </tr>\n",
       "  </tbody>\n",
       "</table>\n",
       "</div>"
      ],
      "text/plain": [
       "                       id  popularity  explicit  duration_ms  danceability  \\\n",
       "0  4lsHZ92XCFOQfzJFBTluk8          79      True       203144         0.762   \n",
       "1  3DarAbFujv6eYNliUTyqtz          87      True       208666         0.764   \n",
       "2  3zYufmyv6HOuiHn1eMR6Ja          63     False       285960         0.586   \n",
       "3  0k4d5YPDr1r7FX77VdqWez          88      True       186173         0.828   \n",
       "4  5faV0JuyfLNvBpKu7s6mCV          55     False       134931         0.445   \n",
       "\n",
       "   energy  key  loudness  mode  speechiness  acousticness  instrumentalness  \\\n",
       "0   0.433    5    -8.937     1       0.1870        0.1430          0.000000   \n",
       "1   0.705    8    -3.463     1       0.0284        0.2590          0.000089   \n",
       "2   0.659    0    -7.920     0       0.0304        0.0110          0.000000   \n",
       "3   0.621    8    -6.414     1       0.0565        0.0164          0.002330   \n",
       "4   0.601   11    -6.633     0       0.0433        0.0124          0.001530   \n",
       "\n",
       "   liveness  valence    tempo  time_signature  \\\n",
       "0    0.1180    0.394  122.074               4   \n",
       "1    0.1200    0.781  110.970               4   \n",
       "2    0.1060    0.147  111.989               4   \n",
       "3    0.0845    0.436  128.986               4   \n",
       "4    0.3820    0.198  128.179               4   \n",
       "\n",
       "                                       genre  \n",
       "0                             [pop r&b, r&b]  \n",
       "1                           [dance pop, pop]  \n",
       "2  [permanent wave, soft rock, sophisti-pop]  \n",
       "3                           [dance pop, pop]  \n",
       "4                                         []  "
      ]
     },
     "execution_count": 5,
     "metadata": {},
     "output_type": "execute_result"
    }
   ],
   "source": [
    "tracks_features_df.head()"
   ]
  },
  {
   "cell_type": "markdown",
   "metadata": {},
   "source": [
    "## Making Sense of the Data\n",
    "\n",
    "The training data will be made using ```tracks_features_df``` which is a collection of user's top tracks, saved tracks, top 10 tracks of user's top artists and some random tracks. All tracks in user's top tracks, saved tracks, top 10 tracks of user's top artists will be labelled as 1 and the random tracks will be labelled as 0.\n",
    "\n",
    "Once the model has been trained, the tracks in ```recommended_tracks_df``` will be evaluated on and tracks with a high enough probability will be marked and a playlist will be made from them."
   ]
  },
  {
   "cell_type": "markdown",
   "metadata": {},
   "source": [
    "## Label the Data\n",
    "\n",
    "Classifying the tracks in ```tracks_features_df``` as 1 or 0"
   ]
  },
  {
   "cell_type": "code",
   "execution_count": 6,
   "metadata": {},
   "outputs": [
    {
     "name": "stdout",
     "output_type": "stream",
     "text": [
      "Number of tracks marked as 1 --> 805\n"
     ]
    }
   ],
   "source": [
    "count = 0\n",
    "label_list = list()\n",
    "for id in tracks_features_df.id:\n",
    "    if id in top_tracks_ids_df.id.values or id in saved_tracks_ids_df.id.values or id in top_tracks_of_top_artists_df.id.values:\n",
    "        count = count + 1\n",
    "        # 1 to the tracks from top tracks or saved tracks or top tracks of top artists\n",
    "        label_list.append(1)\n",
    "    else:\n",
    "        # 0 otherwise\n",
    "        label_list.append(0)\n",
    "\n",
    "print(f'Number of tracks marked as 1 --> {count}')\n",
    "\n",
    "# Add new column 'ratings' to the dataframe\n",
    "tracks_features_df['labels'] = label_list"
   ]
  },
  {
   "cell_type": "code",
   "execution_count": 7,
   "metadata": {},
   "outputs": [
    {
     "data": {
      "text/plain": [
       "0       1\n",
       "1       1\n",
       "2       1\n",
       "3       1\n",
       "4       1\n",
       "       ..\n",
       "1497    0\n",
       "1498    0\n",
       "1499    0\n",
       "1500    0\n",
       "1501    0\n",
       "Name: labels, Length: 1502, dtype: int64"
      ]
     },
     "execution_count": 7,
     "metadata": {},
     "output_type": "execute_result"
    }
   ],
   "source": [
    "tracks_features_df['labels']"
   ]
  },
  {
   "cell_type": "markdown",
   "metadata": {},
   "source": [
    "## Features\n",
    "\n",
    "We have some features like 'danceability', 'energy', 'key' which were pulled directly from the track audio features using the Spotify Web API. But the genres are lists of different generes. We need to seperate all genres and use them as seperate features. We will use one hot encoding to mark a track of that genre (1) or not (0)"
   ]
  },
  {
   "cell_type": "code",
   "execution_count": 8,
   "metadata": {},
   "outputs": [
    {
     "name": "stderr",
     "output_type": "stream",
     "text": [
      "<ipython-input-8-5c039160032c>:15: FutureWarning: In a future version of pandas all arguments of DataFrame.drop except for the argument 'labels' will be keyword-only\n",
      "  X = X.drop('genre', 1).join(X['genre'].str.join('|').str.get_dummies())\n",
      "<ipython-input-8-5c039160032c>:17: FutureWarning: In a future version of pandas all arguments of DataFrame.drop except for the argument 'labels' will be keyword-only\n",
      "  X_recommend = X_recommend.drop('genre', 1).join(X_recommend['genre'].str.join('|').str.get_dummies())\n"
     ]
    }
   ],
   "source": [
    "# Training data\n",
    "X = tracks_features_df[['popularity','explicit','duration_ms','danceability', 'energy', 'key', 'loudness', 'mode',\n",
    "                        'speechiness', 'acousticness', 'instrumentalness', 'liveness', 'valence', 'tempo', \n",
    "                        'time_signature', 'genre']]\n",
    "\n",
    "y = tracks_features_df['labels']\n",
    "\n",
    "# Drop NaN or None\n",
    "X = X.dropna()\n",
    "recommended_tracks_df = recommended_tracks_df.dropna()\n",
    "# save this as evaluation tracks, the models will be tested on this dataset to get recommended tracks\n",
    "recommended_tracks_df.to_pickle('spotify_data/eval_tracks_df.pkl')\n",
    "\n",
    "# Create genre columns (one-hot encoding)\n",
    "X = X.drop('genre', 1).join(X['genre'].str.join('|').str.get_dummies())\n",
    "X_recommend = recommended_tracks_df.copy()\n",
    "X_recommend = X_recommend.drop('genre', 1).join(X_recommend['genre'].str.join('|').str.get_dummies())\n",
    "\n",
    "# Ensure features are consistent across training, test, and evaluation\n",
    "X = X[X.columns.intersection(X_recommend.columns)]\n",
    "X_recommend = X_recommend[X_recommend.columns.intersection(X.columns)]\n",
    "\n",
    "# Train-test split\n",
    "X_train, X_test, y_train, y_test = train_test_split(X, y, test_size=0.2, random_state=20)"
   ]
  },
  {
   "cell_type": "code",
   "execution_count": 9,
   "metadata": {},
   "outputs": [
    {
     "name": "stdout",
     "output_type": "stream",
     "text": [
      "---Training set info ---\n",
      "<class 'pandas.core.frame.DataFrame'>\n",
      "Int64Index: 1201 entries, 1213 to 1379\n",
      "Columns: 341 entries, popularity to yacht rock\n",
      "dtypes: bool(1), float64(9), int64(331)\n",
      "memory usage: 3.1 MB\n",
      "\n",
      "---Testing set info\n",
      "<class 'pandas.core.frame.DataFrame'>\n",
      "Int64Index: 301 entries, 1285 to 318\n",
      "Columns: 341 entries, popularity to yacht rock\n",
      "dtypes: bool(1), float64(9), int64(331)\n",
      "memory usage: 802.2 KB\n",
      "\n",
      "---Evaluation set info---\n",
      "<class 'pandas.core.frame.DataFrame'>\n",
      "Int64Index: 7521 entries, 0 to 7938\n",
      "Columns: 341 entries, popularity to yacht rock\n",
      "dtypes: bool(1), float64(9), int64(331)\n",
      "memory usage: 19.8 MB\n"
     ]
    }
   ],
   "source": [
    "print('---Training set info ---')\n",
    "X_train.info()\n",
    "print('\\n---Testing set info')\n",
    "X_test.info()\n",
    "print('\\n---Evaluation set info---')\n",
    "X_recommend.info()"
   ]
  },
  {
   "cell_type": "markdown",
   "metadata": {},
   "source": [
    "## Feature Selection\n",
    "\n",
    "Currently we have 331 features, we will reduce the number of features to better train the model and reduce on computation"
   ]
  },
  {
   "cell_type": "code",
   "execution_count": 75,
   "metadata": {},
   "outputs": [
    {
     "name": "stdout",
     "output_type": "stream",
     "text": [
      "Fitting estimator with 341 features.\n",
      "Fitting estimator with 340 features.\n",
      "Fitting estimator with 339 features.\n",
      "Fitting estimator with 338 features.\n",
      "Fitting estimator with 337 features.\n",
      "Fitting estimator with 336 features.\n",
      "Fitting estimator with 335 features.\n",
      "Fitting estimator with 334 features.\n",
      "Fitting estimator with 333 features.\n",
      "Fitting estimator with 332 features.\n",
      "Fitting estimator with 331 features.\n",
      "Fitting estimator with 330 features.\n",
      "Fitting estimator with 329 features.\n",
      "Fitting estimator with 328 features.\n",
      "Fitting estimator with 327 features.\n",
      "Fitting estimator with 326 features.\n",
      "Fitting estimator with 325 features.\n",
      "Fitting estimator with 324 features.\n",
      "Fitting estimator with 323 features.\n",
      "Fitting estimator with 322 features.\n",
      "Fitting estimator with 321 features.\n",
      "Fitting estimator with 320 features.\n",
      "Fitting estimator with 319 features.\n",
      "Fitting estimator with 318 features.\n",
      "Fitting estimator with 317 features.\n",
      "Optimal number of features: 316\n"
     ]
    },
    {
     "data": {
      "image/png": "[encoded data removed]",
      "text/plain": [
       "<Figure size 640x480 with 1 Axes>"
      ]
     },
     "metadata": {},
     "output_type": "display_data"
    }
   ],
   "source": [
    "# Recursive Feature Elimination with Cross-Validation (RFECV) is used to rank features\n",
    "# estimator -> Machine Learning algorithm instance to be used, i have used Random Forest with 1000 trees\n",
    "# step -> Number of features to remove per iteration\n",
    "# cv -> cross validation splitting strategy, StratifiedKFold(2) splits data into 2 folds. Works well with imbalance dataset\n",
    "# scoring -> scoring metric used to optimize for\n",
    "# verbose --> Setting this to 1 will print updates onto the console on every iteration\n",
    "# n_jobs --> Number of cores to run in parallel. -1 means all available cores\n",
    "\n",
    "\n",
    "rf = RandomForestClassifier(n_estimators = 1000, random_state = 20)\n",
    "rfecv = RFECV(estimator=rf, step=1, cv=StratifiedKFold(2),  scoring='roc_auc', verbose=1, n_jobs=-1)\n",
    "rfecv.fit(X_train, y_train)\n",
    "\n",
    "print(f'Optimal number of features: {rfecv.n_features_}')\n",
    "\n",
    "plt.figure()\n",
    "plt.xlabel('Number of features selected')\n",
    "plt.ylabel('Cross validation score')\n",
    "plt.plot(range(1, len(rfecv.grid_scores_)+1), rfecv.grid_scores_)\n",
    "plt.show()"
   ]
  },
  {
   "cell_type": "markdown",
   "metadata": {},
   "source": [
    "We can see that the Optimal number of features is 316 whereas the total number of features we have is 331. This means we can get rid of 15 features."
   ]
  },
  {
   "cell_type": "code",
   "execution_count": 82,
   "metadata": {},
   "outputs": [
    {
     "name": "stderr",
     "output_type": "stream",
     "text": [
      "/Users/veersingh/opt/anaconda3/envs/recsysspotify/lib/python3.9/site-packages/pandas/core/frame.py:4901: SettingWithCopyWarning: \n",
      "A value is trying to be set on a copy of a slice from a DataFrame\n",
      "\n",
      "See the caveats in the documentation: https://pandas.pydata.org/pandas-docs/stable/user_guide/indexing.html#returning-a-view-versus-a-copy\n",
      "  return super().drop(\n"
     ]
    }
   ],
   "source": [
    "# Dropping the least important features\n",
    "X_train.drop(X_train.columns[np.where(rfecv.support_ == False)[0]], axis=1, inplace=True)\n",
    "X_test.drop(X_test.columns[np.where(rfecv.support_ == False)[0]], axis=1, inplace=True)\n",
    "X_recommend.drop(X_recommend.columns[np.where(rfecv.support_ == False)[0]], axis=1, inplace=True)"
   ]
  },
  {
   "cell_type": "code",
   "execution_count": 84,
   "metadata": {},
   "outputs": [
    {
     "name": "stdout",
     "output_type": "stream",
     "text": [
      "---Training set info ---\n",
      "<class 'pandas.core.frame.DataFrame'>\n",
      "Int64Index: 1201 entries, 1213 to 1379\n",
      "Columns: 316 entries, popularity to yacht rock\n",
      "dtypes: bool(1), float64(9), int64(306)\n",
      "memory usage: 2.9 MB\n",
      "\n",
      "---Testing set info\n",
      "<class 'pandas.core.frame.DataFrame'>\n",
      "Int64Index: 301 entries, 1285 to 318\n",
      "Columns: 316 entries, popularity to yacht rock\n",
      "dtypes: bool(1), float64(9), int64(306)\n",
      "memory usage: 743.4 KB\n",
      "\n",
      "---Evaluation set info---\n",
      "<class 'pandas.core.frame.DataFrame'>\n",
      "Int64Index: 7521 entries, 0 to 7938\n",
      "Columns: 316 entries, popularity to yacht rock\n",
      "dtypes: bool(1), float64(9), int64(306)\n",
      "memory usage: 18.4 MB\n"
     ]
    }
   ],
   "source": [
    "print('---Training set info ---')\n",
    "X_train.info()\n",
    "print('\\n---Testing set info')\n",
    "X_test.info()\n",
    "print('\\n---Evaluation set info---')\n",
    "X_recommend.info()"
   ]
  },
  {
   "cell_type": "code",
   "execution_count": 85,
   "metadata": {},
   "outputs": [],
   "source": [
    "# Saving X_train, y_train, X_test, y_test, X_recommend for use in ML models\n",
    "X_train.to_csv('model/X_train.csv')\n",
    "X_train.to_pickle('model/X_train.pkl')\n",
    "\n",
    "y_train.to_csv('model/y_train.csv')\n",
    "y_train.to_pickle('model/y_train.pkl')\n",
    "\n",
    "X_test.to_csv('model/X_test.csv')\n",
    "X_test.to_pickle('model/X_test.pkl')\n",
    "\n",
    "y_test.to_csv('model/y_test.csv')\n",
    "y_test.to_pickle('model/y_test.pkl')\n",
    "\n",
    "X_recommend.to_csv('model/X_recommend.csv')\n",
    "X_recommend.to_pickle('model/X_recommend.pkl')"
   ]
  },
  {
   "cell_type": "code",
   "execution_count": 86,
   "metadata": {},
   "outputs": [
    {
     "data": {
      "image/png": "[encoded data removed]",
      "text/plain": [
       "<Figure size 640x480 with 1 Axes>"
      ]
     },
     "metadata": {},
     "output_type": "display_data"
    }
   ],
   "source": [
    "# Visualize importance of 20 of the most important features (showing all XXX would not be possible in such a small space)\n",
    "\n",
    "X_train = pd.read_pickle('model/X_train.pkl')\n",
    "\n",
    "dset = pd.DataFrame()\n",
    "dset['features'] = X_train.columns\n",
    "dset['importance'] = rfecv.estimator_.feature_importances_\n",
    "\n",
    "dset = dset.sort_values(by=['importance'], ascending=False)\n",
    "dset = dset.head(20)\n",
    "\n",
    "plt.figure()\n",
    "plt.barh(y=dset['features'], width=dset['importance'])\n",
    "plt.title('RFECV - Feature Importances', fontsize=20, fontweight='bold', pad=20)\n",
    "plt.xlabel('Importance', fontsize=18, labelpad=20)\n",
    "plt.ylabel('Features', fontsize=18, labelpad=20)\n",
    "plt.show()"
   ]
  }
 ],
 "metadata": {
  "kernelspec": {
   "display_name": "recsysspotify",
   "language": "python",
   "name": "recsysspotify"
  },
  "language_info": {
   "codemirror_mode": {
    "name": "ipython",
    "version": 3
   },
   "file_extension": ".py",
   "mimetype": "text/x-python",
   "name": "python",
   "nbconvert_exporter": "python",
   "pygments_lexer": "ipython3",
   "version": "3.9.6"
  }
 },
 "nbformat": 4,
 "nbformat_minor": 4
}
