{
 "cells": [
  {
   "cell_type": "markdown",
   "metadata": {},
   "source": [
    "# Random Forest"
   ]
  },
  {
   "cell_type": "code",
   "execution_count": 1,
   "metadata": {},
   "outputs": [],
   "source": [
    "import pandas as pd\n",
    "import matplotlib.pyplot as plt\n",
    "import seaborn as sns"
   ]
  },
  {
   "cell_type": "code",
   "execution_count": 2,
   "metadata": {},
   "outputs": [],
   "source": [
    "from sklearn.ensemble import RandomForestClassifier"
   ]
  },
  {
   "cell_type": "code",
   "execution_count": 3,
   "metadata": {},
   "outputs": [],
   "source": [
    "from sklearn.model_selection import GridSearchCV\n",
    "from sklearn.metrics import confusion_matrix\n",
    "from sklearn.metrics import recall_score\n",
    "from sklearn.metrics import precision_score\n",
    "from sklearn.metrics import f1_score\n",
    "from sklearn.metrics import classification_report"
   ]
  },
  {
   "cell_type": "markdown",
   "metadata": {},
   "source": [
    "### Load the Training, Testing and Evaluation Data"
   ]
  },
  {
   "cell_type": "code",
   "execution_count": 4,
   "metadata": {},
   "outputs": [],
   "source": [
    "# Load the data\n",
    "X_train = pd.read_pickle('model/X_train.pkl')\n",
    "y_train = pd.read_pickle('model/y_train.pkl')\n",
    "X_test = pd.read_pickle('model/X_test.pkl')\n",
    "y_test = pd.read_pickle('model/y_test.pkl')\n",
    "X_recommend = pd.read_pickle('model/X_recommend.pkl')"
   ]
  },
  {
   "cell_type": "code",
   "execution_count": 5,
   "metadata": {},
   "outputs": [
    {
     "data": {
      "text/html": [
       "<div>\n",
       "<style scoped>\n",
       "    .dataframe tbody tr th:only-of-type {\n",
       "        vertical-align: middle;\n",
       "    }\n",
       "\n",
       "    .dataframe tbody tr th {\n",
       "        vertical-align: top;\n",
       "    }\n",
       "\n",
       "    .dataframe thead th {\n",
       "        text-align: right;\n",
       "    }\n",
       "</style>\n",
       "<table border=\"1\" class=\"dataframe\">\n",
       "  <thead>\n",
       "    <tr style=\"text-align: right;\">\n",
       "      <th></th>\n",
       "      <th>popularity</th>\n",
       "      <th>explicit</th>\n",
       "      <th>duration_ms</th>\n",
       "      <th>danceability</th>\n",
       "      <th>energy</th>\n",
       "      <th>key</th>\n",
       "      <th>loudness</th>\n",
       "      <th>mode</th>\n",
       "      <th>speechiness</th>\n",
       "      <th>acousticness</th>\n",
       "      <th>...</th>\n",
       "      <th>urban contemporary</th>\n",
       "      <th>vallenato</th>\n",
       "      <th>vapor trap</th>\n",
       "      <th>vapor twitch</th>\n",
       "      <th>video game music</th>\n",
       "      <th>viral pop</th>\n",
       "      <th>viral rap</th>\n",
       "      <th>weirdcore</th>\n",
       "      <th>west coast rap</th>\n",
       "      <th>yacht rock</th>\n",
       "    </tr>\n",
       "  </thead>\n",
       "  <tbody>\n",
       "    <tr>\n",
       "      <th>1213</th>\n",
       "      <td>4</td>\n",
       "      <td>False</td>\n",
       "      <td>220653</td>\n",
       "      <td>0.780</td>\n",
       "      <td>0.856</td>\n",
       "      <td>10</td>\n",
       "      <td>-5.316</td>\n",
       "      <td>0</td>\n",
       "      <td>0.0405</td>\n",
       "      <td>0.11600</td>\n",
       "      <td>...</td>\n",
       "      <td>0</td>\n",
       "      <td>0</td>\n",
       "      <td>0</td>\n",
       "      <td>0</td>\n",
       "      <td>0</td>\n",
       "      <td>0</td>\n",
       "      <td>0</td>\n",
       "      <td>0</td>\n",
       "      <td>0</td>\n",
       "      <td>0</td>\n",
       "    </tr>\n",
       "    <tr>\n",
       "      <th>71</th>\n",
       "      <td>84</td>\n",
       "      <td>False</td>\n",
       "      <td>173333</td>\n",
       "      <td>0.726</td>\n",
       "      <td>0.431</td>\n",
       "      <td>8</td>\n",
       "      <td>-8.765</td>\n",
       "      <td>0</td>\n",
       "      <td>0.1350</td>\n",
       "      <td>0.73100</td>\n",
       "      <td>...</td>\n",
       "      <td>0</td>\n",
       "      <td>0</td>\n",
       "      <td>0</td>\n",
       "      <td>0</td>\n",
       "      <td>0</td>\n",
       "      <td>0</td>\n",
       "      <td>0</td>\n",
       "      <td>0</td>\n",
       "      <td>0</td>\n",
       "      <td>0</td>\n",
       "    </tr>\n",
       "    <tr>\n",
       "      <th>1058</th>\n",
       "      <td>0</td>\n",
       "      <td>False</td>\n",
       "      <td>182506</td>\n",
       "      <td>0.791</td>\n",
       "      <td>0.907</td>\n",
       "      <td>0</td>\n",
       "      <td>-2.223</td>\n",
       "      <td>1</td>\n",
       "      <td>0.0884</td>\n",
       "      <td>0.01320</td>\n",
       "      <td>...</td>\n",
       "      <td>0</td>\n",
       "      <td>0</td>\n",
       "      <td>0</td>\n",
       "      <td>0</td>\n",
       "      <td>0</td>\n",
       "      <td>0</td>\n",
       "      <td>0</td>\n",
       "      <td>0</td>\n",
       "      <td>0</td>\n",
       "      <td>0</td>\n",
       "    </tr>\n",
       "    <tr>\n",
       "      <th>756</th>\n",
       "      <td>77</td>\n",
       "      <td>True</td>\n",
       "      <td>205158</td>\n",
       "      <td>0.533</td>\n",
       "      <td>0.858</td>\n",
       "      <td>2</td>\n",
       "      <td>-4.212</td>\n",
       "      <td>1</td>\n",
       "      <td>0.0766</td>\n",
       "      <td>0.00021</td>\n",
       "      <td>...</td>\n",
       "      <td>0</td>\n",
       "      <td>0</td>\n",
       "      <td>0</td>\n",
       "      <td>0</td>\n",
       "      <td>0</td>\n",
       "      <td>0</td>\n",
       "      <td>0</td>\n",
       "      <td>0</td>\n",
       "      <td>0</td>\n",
       "      <td>0</td>\n",
       "    </tr>\n",
       "    <tr>\n",
       "      <th>317</th>\n",
       "      <td>62</td>\n",
       "      <td>False</td>\n",
       "      <td>109735</td>\n",
       "      <td>0.670</td>\n",
       "      <td>0.609</td>\n",
       "      <td>7</td>\n",
       "      <td>-10.088</td>\n",
       "      <td>1</td>\n",
       "      <td>0.0333</td>\n",
       "      <td>0.74900</td>\n",
       "      <td>...</td>\n",
       "      <td>0</td>\n",
       "      <td>0</td>\n",
       "      <td>0</td>\n",
       "      <td>0</td>\n",
       "      <td>0</td>\n",
       "      <td>0</td>\n",
       "      <td>0</td>\n",
       "      <td>0</td>\n",
       "      <td>0</td>\n",
       "      <td>0</td>\n",
       "    </tr>\n",
       "  </tbody>\n",
       "</table>\n",
       "<p>5 rows × 316 columns</p>\n",
       "</div>"
      ],
      "text/plain": [
       "      popularity  explicit  duration_ms  danceability  energy  key  loudness  \\\n",
       "1213           4     False       220653         0.780   0.856   10    -5.316   \n",
       "71            84     False       173333         0.726   0.431    8    -8.765   \n",
       "1058           0     False       182506         0.791   0.907    0    -2.223   \n",
       "756           77      True       205158         0.533   0.858    2    -4.212   \n",
       "317           62     False       109735         0.670   0.609    7   -10.088   \n",
       "\n",
       "      mode  speechiness  acousticness  ...  urban contemporary  vallenato  \\\n",
       "1213     0       0.0405       0.11600  ...                   0          0   \n",
       "71       0       0.1350       0.73100  ...                   0          0   \n",
       "1058     1       0.0884       0.01320  ...                   0          0   \n",
       "756      1       0.0766       0.00021  ...                   0          0   \n",
       "317      1       0.0333       0.74900  ...                   0          0   \n",
       "\n",
       "      vapor trap  vapor twitch  video game music  viral pop  viral rap  \\\n",
       "1213           0             0                 0          0          0   \n",
       "71             0             0                 0          0          0   \n",
       "1058           0             0                 0          0          0   \n",
       "756            0             0                 0          0          0   \n",
       "317            0             0                 0          0          0   \n",
       "\n",
       "      weirdcore  west coast rap  yacht rock  \n",
       "1213          0               0           0  \n",
       "71            0               0           0  \n",
       "1058          0               0           0  \n",
       "756           0               0           0  \n",
       "317           0               0           0  \n",
       "\n",
       "[5 rows x 316 columns]"
      ]
     },
     "execution_count": 5,
     "metadata": {},
     "output_type": "execute_result"
    }
   ],
   "source": [
    "X_train.head()"
   ]
  },
  {
   "cell_type": "markdown",
   "metadata": {},
   "source": [
    "Since Random Forest is a Tree-based algorithm, it is fairly insensitive to the scale of the features, thus we wont scale the features for this model."
   ]
  },
  {
   "cell_type": "markdown",
   "metadata": {},
   "source": [
    "### Hyperparameter Tuning\n",
    "\n",
    "We will tune for:\n",
    "- The number of trees in the forest (n_estimators)\n",
    "- The maximum depth of the tree (max_depth)\n",
    "- The minimum number of samples required to split an internal node (min_samples_split)\n",
    "- The minimum number of samples required to be at a leaf node (min_samples_leaf)\n",
    "- Whether bootstrap samples are used when building trees. If False, the whole dataset is used to build each tree (bootstrap)"
   ]
  },
  {
   "cell_type": "code",
   "execution_count": 6,
   "metadata": {},
   "outputs": [
    {
     "name": "stdout",
     "output_type": "stream",
     "text": [
      "{'n_estimators': [200, 400, 600, 800, 1000, 1200, 1400, 1600, 1800, 2000], 'max_depth': [10, 20, 30, 40, 50, 60, 70, 80, 90, 100, None], 'min_samples_split': [2, 5, 10], 'min_samples_leaf': [1, 2, 4], 'bootstrap': [True, False]}\n"
     ]
    }
   ],
   "source": [
    "# Check accuracy for each value for each hyperparameter in its range\n",
    "# We will use GridSearchCV to automate this process\n",
    "\n",
    "n_estimators = [200, 400, 600, 800, 1000, 1200, 1400, 1600, 1800, 2000]\n",
    "max_depth = [10, 20, 30, 40, 50, 60, 70, 80, 90, 100, None]\n",
    "min_samples_split = [2, 5, 10]\n",
    "min_samples_leaf = [1, 2, 4]\n",
    "bootstrap = [True, False]\n",
    "\n",
    "#Convert to dictionary\n",
    "hyperparameters = dict(n_estimators=n_estimators,\n",
    "                      max_depth=max_depth,\n",
    "                      min_samples_split=min_samples_split,\n",
    "                      min_samples_leaf=min_samples_leaf,\n",
    "                      bootstrap=bootstrap)\n",
    "\n",
    "print(hyperparameters)"
   ]
  },
  {
   "cell_type": "code",
   "execution_count": 7,
   "metadata": {},
   "outputs": [
    {
     "name": "stdout",
     "output_type": "stream",
     "text": [
      "Fitting 10 folds for each of 1980 candidates, totalling 19800 fits\n"
     ]
    }
   ],
   "source": [
    "# estimator = ML model to be tested\n",
    "# param_grid = dictionary of hyperparameters to be tested\n",
    "# n_jobs = number of cores to be used in parallel, -1 means use all\n",
    "# cv = number of cross validation set elements\n",
    "# verbose = setting it to 2 will print updates to the terminal\n",
    "\n",
    "best_model = GridSearchCV(estimator=RandomForestClassifier(),\n",
    "                         param_grid=hyperparameters,\n",
    "                         n_jobs=-1,\n",
    "                         cv=10,\n",
    "                         verbose=2)\n",
    "\n",
    "# Fit the model\n",
    "best_model = best_model.fit(X_train,y_train)"
   ]
  },
  {
   "cell_type": "code",
   "execution_count": 8,
   "metadata": {},
   "outputs": [
    {
     "name": "stdout",
     "output_type": "stream",
     "text": [
      "Best n_estimators: 1600\n",
      "Best max_depth: 60\n",
      "Best min_samples_split: 2\n",
      "Best min_samples_leaf: 1\n",
      "Best bootstrap: False\n"
     ]
    }
   ],
   "source": [
    "n_estimators = best_model.best_estimator_.get_params()['n_estimators']\n",
    "max_depth = best_model.best_estimator_.get_params()['max_depth']\n",
    "min_samples_split = best_model.best_estimator_.get_params()['min_samples_split']\n",
    "min_samples_leaf = best_model.best_estimator_.get_params()['min_samples_leaf']\n",
    "bootstrap = best_model.best_estimator_.get_params()['bootstrap']\n",
    "\n",
    "print(f'Best n_estimators: {n_estimators}')\n",
    "print(f'Best max_depth: {max_depth}')\n",
    "print(f'Best min_samples_split: {min_samples_split}')\n",
    "print(f'Best min_samples_leaf: {min_samples_leaf}')\n",
    "print(f'Best bootstrap: {bootstrap}')"
   ]
  },
  {
   "cell_type": "markdown",
   "metadata": {},
   "source": [
    "### Model"
   ]
  },
  {
   "cell_type": "code",
   "execution_count": 9,
   "metadata": {},
   "outputs": [],
   "source": [
    "\n",
    "# model\n",
    "decision_tree = RandomForestClassifier(n_estimators=n_estimators,\n",
    "                                      max_depth=max_depth,\n",
    "                                      min_samples_split=min_samples_split,\n",
    "                                      min_samples_leaf=min_samples_leaf,\n",
    "                                      bootstrap=bootstrap)\n",
    "\n",
    "# fit the model\n",
    "decision_tree.fit(X_train, y_train)\n",
    "\n",
    "# prediction\n",
    "predictions = decision_tree.predict(X_test)"
   ]
  },
  {
   "cell_type": "markdown",
   "metadata": {},
   "source": [
    "### Visualizing the Confusion Matrix"
   ]
  },
  {
   "cell_type": "code",
   "execution_count": 14,
   "metadata": {},
   "outputs": [
    {
     "data": {
      "image/png": "[encoded data removed]",
      "text/plain": [
       "<Figure size 640x480 with 2 Axes>"
      ]
     },
     "metadata": {},
     "output_type": "display_data"
    }
   ],
   "source": [
    "cm = confusion_matrix(y_test, predictions)\n",
    "plt.figure()\n",
    "sns.heatmap(cm, annot=True, fmt=\".3f\", linewidths=.5, square = True, cmap = 'autumn_r');\n",
    "plt.ylabel('Actual label');\n",
    "plt.xlabel('Predicted label');\n",
    "plt.title('Random Forest Confusion Matrix', size = 15);\n",
    "plt.show()"
   ]
  },
  {
   "cell_type": "code",
   "execution_count": 15,
   "metadata": {},
   "outputs": [
    {
     "name": "stdout",
     "output_type": "stream",
     "text": [
      "Precision (macro average)--> 83.31%\n",
      "Precision (weighted average)--> 83.37%\n",
      "Recall (macro average)--> 82.97%\n",
      "Recall (weighted average)--> 83.39%\n",
      "F1 score (macro average)--> 83.11%\n",
      "F1 score (weighted average)--> 83.35%\n"
     ]
    }
   ],
   "source": [
    "precision_macro_average = precision_score(y_test, predictions, average='macro')\n",
    "precision_weighted_average = precision_score(y_test, predictions, average='weighted')\n",
    "\n",
    "recall_macro_average = recall_score(y_test, predictions, average='macro')\n",
    "recall_weighted_average = recall_score(y_test, predictions, average='weighted')\n",
    "\n",
    "f1_macro_average = f1_score(y_test, predictions, average='macro')\n",
    "f1_weighted_average = f1_score(y_test, predictions, average='weighted')\n",
    "\n",
    "\n",
    "print(f'Precision (macro average)--> {round(precision_macro_average*100, 2)}%')\n",
    "print(f'Precision (weighted average)--> {round(precision_weighted_average*100, 2)}%')\n",
    "\n",
    "print(f'Recall (macro average)--> {round(recall_macro_average*100, 2)}%')\n",
    "print(f'Recall (weighted average)--> {round(recall_weighted_average*100, 2)}%')\n",
    "\n",
    "print(f'F1 score (macro average)--> {round(f1_macro_average*100, 2)}%')\n",
    "print(f'F1 score (weighted average)--> {round(f1_weighted_average*100, 2)}%')"
   ]
  },
  {
   "cell_type": "code",
   "execution_count": 16,
   "metadata": {},
   "outputs": [
    {
     "name": "stdout",
     "output_type": "stream",
     "text": [
      "              precision    recall  f1-score   support\n",
      "\n",
      "           0       0.83      0.79      0.81       134\n",
      "           1       0.84      0.87      0.85       167\n",
      "\n",
      "    accuracy                           0.83       301\n",
      "   macro avg       0.83      0.83      0.83       301\n",
      "weighted avg       0.83      0.83      0.83       301\n",
      "\n"
     ]
    }
   ],
   "source": [
    "print(classification_report(y_test, predictions))"
   ]
  },
  {
   "cell_type": "markdown",
   "metadata": {},
   "source": [
    "#### This model is Good"
   ]
  }
 ],
 "metadata": {
  "kernelspec": {
   "display_name": "recsysspotify",
   "language": "python",
   "name": "recsysspotify"
  },
  "language_info": {
   "codemirror_mode": {
    "name": "ipython",
    "version": 3
   },
   "file_extension": ".py",
   "mimetype": "text/x-python",
   "name": "python",
   "nbconvert_exporter": "python",
   "pygments_lexer": "ipython3",
   "version": "3.9.6"
  }
 },
 "nbformat": 4,
 "nbformat_minor": 4
}
